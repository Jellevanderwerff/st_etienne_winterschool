{
 "cells": [
  {
   "cell_type": "markdown",
   "metadata": {},
   "source": [
    "# Table of contents\n",
    "1. [Introduction](#introduction)\n",
    "2. [Some paragraph](#paragraph1)\n",
    "    1. [Sub paragraph](#subparagraph1)\n",
    "3. [Another paragraph](#paragraph2)\n"
   ]
  },
  {
   "cell_type": "markdown",
   "metadata": {},
   "source": [
    "\n",
    "## This is the introduction <a name=\"introduction\"></a>\n",
    "Some introduction text, formatted in heading 2 style\n",
    "\n",
    "## Some paragraph <a name=\"paragraph1\"></a>\n",
    "The first paragraph text\n",
    "\n",
    "### Sub paragraph <a name=\"subparagraph1\"></a>\n",
    "This is a sub paragraph, formatted in heading 3 style\n",
    "\n",
    "## Another paragraph <a name=\"paragraph2\"></a>\n",
    "The second paragraph text"
   ]
  }
 ],
 "metadata": {
  "kernelspec": {
   "display_name": "venv",
   "language": "python",
   "name": "python3"
  },
  "language_info": {
   "codemirror_mode": {
    "name": "ipython",
    "version": 3
   },
   "file_extension": ".py",
   "mimetype": "text/x-python",
   "name": "python",
   "nbconvert_exporter": "python",
   "pygments_lexer": "ipython3",
   "version": "3.9.6"
  }
 },
 "nbformat": 4,
 "nbformat_minor": 2
}
