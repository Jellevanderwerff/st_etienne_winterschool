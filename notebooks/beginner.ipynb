{
 "cells": [
  {
   "cell_type": "markdown",
   "metadata": {},
   "source": [
    "<img src=../materials/banner.png width=\"70%\">"
   ]
  },
  {
   "cell_type": "markdown",
   "metadata": {},
   "source": [
    "# Exercises for beginner programmers\n",
    "1. [Introduction](#Introduction)\n",
    "1. [Exercise 1](#Exercise1)\n",
    "1. [Exercise 2](#Exercise2)\n",
    "1. [Exercise 3](#Exercise3)\n",
    "1. [Glossary](#glossary)"
   ]
  },
  {
   "cell_type": "markdown",
   "metadata": {},
   "source": [
    "### Weird errors?\n",
    "If you every get stuck and get weird errors, even though you're doing exactly as told, try restarting the kernel. You can do this by clicking on the `Kernel` menu, and selecting `Restart Kernel...`. This will clear all variables, and you can start over again. Note that you will also have to run the import code again, by clicking on the cell and pressing `Control + Enter`."
   ]
  },
  {
   "cell_type": "markdown",
   "metadata": {},
   "source": [
    "## Exercise 1: Characterizing human speech rhythm <a name=\"Exercise1\"></a>\n",
    "\n",
    "### Background <a name=\"Exercise1-background\"></a>\n",
    "\n",
    "Let us start with the most crazy animal of all: the human. We will use a dataset of human speech, and extract some rhythmic measures from it. The dataset is an abridged version of [this speech corpus](https://www.ortolang.fr/market/corpora/sldr000033?lang=en). It contains a number of phrases, their syllables, and the durations of the syllables.\n",
    "\n",
    "![human speech rhythm](https://www.cell.com/cms/attachment/2c7a6e28-551a-40dd-a229-5ab061539285/gr1b2_lrg.jpg)\n",
    "*From [Kotz, Ravignani, & Fitch, 2018](https://doi.org/10.1016/j.tics.2018.08.002)*\n",
    "\n",
    "Speech consists of rhythms at different timescales. In English, for instance, there is a rhythm that indicates stressed words, but also one that indicates stressed syllables."
   ]
  },
  {
   "cell_type": "markdown",
   "metadata": {},
   "source": [
    "### Importing packages and loading the data <a name=\"Exercise1-dataloading\"></a>"
   ]
  },
  {
   "cell_type": "markdown",
   "metadata": {},
   "source": [
    "We always first load the packages that we need. For now, we only need the following: "
   ]
  },
  {
   "cell_type": "code",
   "execution_count": 1,
   "metadata": {},
   "outputs": [],
   "source": [
    "import thebeat\n",
    "import pandas as pd"
   ]
  },
  {
   "cell_type": "markdown",
   "metadata": {},
   "source": [
    "<div class=\"alert alert-block alert-info\">\n",
    "Don't forget to run the code by pressing CTRL+Enter, or by pressing the little play icon.\n",
    "\n",
    "\n",
    "*Note* how we use the `as` keyword to give the package a shorter name. This is not necessary, but it is a common convention.\n",
    "</div>"
   ]
  },
  {
   "cell_type": "markdown",
   "metadata": {},
   "source": [
    "\n",
    "---\n",
    "\n",
    "We can then load the data using [Pandas](https://pandas.pydata.org/), a package for working with tables. We will load the data from a CSV file, which is a common file format for tables. The data is stored in a file called `syllables.csv`, which is located in the `data` folder. We can load the data using the `read_csv()` function from Pandas. We will store the data in a variable called `syllables`.\n",
    "\n",
    "Because we're working online (and the server is a Linux machine), we use `/` to separate between folders and files. You would do the same on your own computer if you have a Mac, on a Windows you would use `\\` instead.\n",
    "\n",
    "Now run the following code to load the data using Pandas:"
   ]
  },
  {
   "cell_type": "code",
   "execution_count": 2,
   "metadata": {},
   "outputs": [],
   "source": [
    "syllables = pd.read_csv('data/syllables.csv')"
   ]
  },
  {
   "cell_type": "markdown",
   "metadata": {},
   "source": [
    "To take a quick look at the data, we can use the `head()` method. This will show the first 5 rows of the table:"
   ]
  },
  {
   "cell_type": "code",
   "execution_count": 3,
   "metadata": {},
   "outputs": [
    {
     "data": {
      "text/html": [
       "<div>\n",
       "<style scoped>\n",
       "    .dataframe tbody tr th:only-of-type {\n",
       "        vertical-align: middle;\n",
       "    }\n",
       "\n",
       "    .dataframe tbody tr th {\n",
       "        vertical-align: top;\n",
       "    }\n",
       "\n",
       "    .dataframe thead th {\n",
       "        text-align: right;\n",
       "    }\n",
       "</style>\n",
       "<table border=\"1\" class=\"dataframe\">\n",
       "  <thead>\n",
       "    <tr style=\"text-align: right;\">\n",
       "      <th></th>\n",
       "      <th>phrase</th>\n",
       "      <th>word</th>\n",
       "      <th>syllable_stress</th>\n",
       "      <th>syllable_duration</th>\n",
       "    </tr>\n",
       "  </thead>\n",
       "  <tbody>\n",
       "    <tr>\n",
       "      <th>0</th>\n",
       "      <td>1</td>\n",
       "      <td>Good</td>\n",
       "      <td>S</td>\n",
       "      <td>110</td>\n",
       "    </tr>\n",
       "    <tr>\n",
       "      <th>1</th>\n",
       "      <td>1</td>\n",
       "      <td>morning</td>\n",
       "      <td>S</td>\n",
       "      <td>189</td>\n",
       "    </tr>\n",
       "    <tr>\n",
       "      <th>2</th>\n",
       "      <td>1</td>\n",
       "      <td>morning</td>\n",
       "      <td>U</td>\n",
       "      <td>199</td>\n",
       "    </tr>\n",
       "    <tr>\n",
       "      <th>3</th>\n",
       "      <td>2</td>\n",
       "      <td>more</td>\n",
       "      <td>S</td>\n",
       "      <td>160</td>\n",
       "    </tr>\n",
       "    <tr>\n",
       "      <th>4</th>\n",
       "      <td>2</td>\n",
       "      <td>news</td>\n",
       "      <td>S</td>\n",
       "      <td>330</td>\n",
       "    </tr>\n",
       "  </tbody>\n",
       "</table>\n",
       "</div>"
      ],
      "text/plain": [
       "   phrase     word syllable_stress  syllable_duration\n",
       "0       1     Good               S                110\n",
       "1       1  morning               S                189\n",
       "2       1  morning               U                199\n",
       "3       2     more               S                160\n",
       "4       2     news               S                330"
      ]
     },
     "execution_count": 3,
     "metadata": {},
     "output_type": "execute_result"
    }
   ],
   "source": [
    "syllables.head()"
   ]
  },
  {
   "cell_type": "markdown",
   "metadata": {},
   "source": [
    "## Visualizing rhythmic speech at the syllable level"
   ]
  },
  {
   "cell_type": "markdown",
   "metadata": {},
   "source": [
    "Let's select one of the phrases, and plot it using [thebeat](https://thebeat.readthedocs.io), a package for working with rhythms and other temporal data. Don't worry to much if you don't understand the code, the goal here is to get a feel for the data.\n",
    "\n",
    "We will use the syllables' durations as so-called 'inter-onset intervals' (IOIs). These are widely used in timing research, and in this case represent the time difference between the onset of one syllable, and the onset of the next syllable. Similar terms are 'inter-stimulus interval' (ISI) or stimulus-onset asynchrony (SOA)."
   ]
  },
  {
   "cell_type": "code",
   "execution_count": 15,
   "metadata": {},
   "outputs": [
    {
     "name": "stderr",
     "output_type": "stream",
     "text": [
      "/Users/jellevanderwerff/st_etienne_winterschool/venv/lib/python3.9/site-packages/thebeat/helpers.py:466: UserWarning: FigureCanvasAgg is non-interactive, and thus cannot be shown\n",
      "  fig.show()\n"
     ]
    },
    {
     "data": {
      "text/plain": [
       "(<Figure size 640x240 with 1 Axes>,\n",
       " <Axes: title={'center': 'More news about the Reverend...'}, xlabel='Time'>)"
      ]
     },
     "execution_count": 15,
     "metadata": {},
     "output_type": "execute_result"
    }
   ],
   "source": [
    "# Select the second phrase\n",
    "phrase = syllables[syllables.phrase == 2]\n",
    "\n",
    "# Make a 'Sequence' out of the phrase's syllable durations\n",
    "sequence = thebeat.Sequence(iois=phrase.syllable_duration)\n",
    "\n",
    "# Plot!\n",
    "sequence.plot_sequence(title=\"More news about the Reverend...\")"
   ]
  },
  {
   "cell_type": "markdown",
   "metadata": {},
   "source": [
    "## Exercise 2:  <a name=\"Exercise2\"></a>"
   ]
  },
  {
   "cell_type": "markdown",
   "metadata": {},
   "source": [
    "## Exercise 3:  <a name=\"Exercise3\"></a>"
   ]
  },
  {
   "cell_type": "markdown",
   "metadata": {},
   "source": [
    "## Glossary <a name=\"glossary\"></a>\n",
    "An overview of (technical) terms used throughout this notebook:"
   ]
  }
 ],
 "metadata": {
  "kernelspec": {
   "display_name": "Python 3 (ipykernel)",
   "language": "python",
   "name": "python3"
  },
  "language_info": {
   "codemirror_mode": {
    "name": "ipython",
    "version": 3
   },
   "file_extension": ".py",
   "mimetype": "text/x-python",
   "name": "python",
   "nbconvert_exporter": "python",
   "pygments_lexer": "ipython3",
   "version": "3.11.7"
  },
  "widgets": {
   "application/vnd.jupyter.widget-state+json": {
    "state": {},
    "version_major": 2,
    "version_minor": 0
   }
  }
 },
 "nbformat": 4,
 "nbformat_minor": 4
}
