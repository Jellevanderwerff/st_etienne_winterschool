{
 "cells": [
  {
   "cell_type": "markdown",
   "metadata": {},
   "source": [
    "<img src=../materials/banner.png width=\"70%\">"
   ]
  },
  {
   "cell_type": "markdown",
   "metadata": {},
   "source": [
    "# Exercises for beginner programmers\n",
    "1. [Introduction](#Introduction)\n",
    "1. [Exercise 1: Characterizing human speech](#Exercise1)\n",
    "1. [Exercise 2: Creating and characterizing a musical rhythm](#Exercise2)\n",
    "1. [Exercise 3: Sperm whale clicks](#Exercise3)\n",
    "1. [Bonus: Play around with bat data](#PlayAround)"
   ]
  },
  {
   "cell_type": "markdown",
   "metadata": {},
   "source": [
    "### Weird errors?\n",
    "If you ever get stuck and get weird errors, even though you're doing exactly as told, try restarting the kernel. You can do this by clicking on the `Kernel` menu, and selecting `Restart Kernel...`. This will clear all variables, and you can start over again. Note that you will probably have to run all relevant cells again, by clicking on each cell and pressing `Control + Enter`."
   ]
  },
  {
   "cell_type": "markdown",
   "metadata": {},
   "source": [
    "## Exercise 1: Characterizing human speech rhythm <a name=\"Exercise1\"></a>\n",
    "\n",
    "### Background <a name=\"Exercise1-background\"></a>\n",
    "\n",
    "Let us start with the most crazy animal of all: the human. We will use a dataset of human speech, and extract some rhythmic measures from it. The dataset is an abridged version of [this speech corpus](https://www.ortolang.fr/market/corpora/sldr000033?lang=en). It contains a number of phrases, their syllables, and the durations of the syllables.\n",
    "\n",
    "![human speech rhythm](https://www.cell.com/cms/attachment/2c7a6e28-551a-40dd-a229-5ab061539285/gr1b2_lrg.jpg)\n",
    "*From [Kotz, Ravignani, & Fitch, 2018](https://doi.org/10.1016/j.tics.2018.08.002)*\n",
    "\n",
    "Speech consists of rhythms at different timescales. In English, for instance, there is an underlying rhythm indicating stressed words, but also one that indicates stressed syllables."
   ]
  },
  {
   "cell_type": "markdown",
   "metadata": {},
   "source": [
    "### Importing packages and loading the data <a name=\"Exercise1-dataloading\"></a>"
   ]
  },
  {
   "cell_type": "markdown",
   "metadata": {},
   "source": [
    "We always first load the packages that we need. For now, we only need the following: "
   ]
  },
  {
   "cell_type": "code",
   "execution_count": null,
   "metadata": {},
   "outputs": [],
   "source": [
    "import thebeat\n",
    "import pandas as pd\n",
    "\n",
    "# In addition, we run the following code. This you don't have to remember (it's for the plots to display nicely in this notebook):\n",
    "%matplotlib inline"
   ]
  },
  {
   "cell_type": "markdown",
   "metadata": {},
   "source": [
    "<div class=\"alert alert-block alert-info\">\n",
    "Don't forget to run the code by pressing CTRL+Enter, or by pressing the little play icon.\n",
    "\n",
    "\n",
    "Note how we use the `as` keyword to give the package a shorter name. This is not necessary, but it is a common convention.\n",
    "</div>"
   ]
  },
  {
   "cell_type": "markdown",
   "metadata": {},
   "source": [
    "\n",
    "---\n",
    "\n",
    "We can then load the data using [Pandas](https://pandas.pydata.org/), a package for working with tables. We will load the data from a CSV file, which is a common file format for tables. The data is stored in a file called `syllables.csv`, which is located in the `data` folder. We can load the data using the `read_csv()` function from Pandas. We will store the data in a variable called `syllables`.\n",
    "\n",
    "Because we're working online (and the server is a Linux machine), we use `/` to separate between folders and files. You would do the same on your own computer if you have a Mac. On a Windows you would use `\\` instead.\n",
    "\n",
    "Now run the following code to load the data using Pandas:"
   ]
  },
  {
   "cell_type": "code",
   "execution_count": null,
   "metadata": {},
   "outputs": [],
   "source": [
    "syllables = pd.read_csv('data/syllables.csv')"
   ]
  },
  {
   "cell_type": "markdown",
   "metadata": {},
   "source": [
    "To take a quick look at the data, we can use the `head()` method. This will show the first 5 rows of the table:"
   ]
  },
  {
   "cell_type": "code",
   "execution_count": null,
   "metadata": {},
   "outputs": [],
   "source": [
    "syllables.head()"
   ]
  },
  {
   "cell_type": "markdown",
   "metadata": {},
   "source": [
    "### First look at one phrase of English"
   ]
  },
  {
   "cell_type": "markdown",
   "metadata": {},
   "source": [
    "Let's select one of the phrases, and plot it using [thebeat](https://thebeat.readthedocs.io), a package for working with rhythms and other temporal data. Don't worry to much if you don't understand the code, the goal here is to get a feel for the data.\n",
    "\n",
    "We will use the syllables' durations as so-called 'inter-onset intervals' (IOIs). These are widely used in timing research, and in this case represent the time difference between the onset of one syllable, and the onset of the next syllable. Similar terms are 'inter-stimulus interval' (ISI) and stimulus-onset asynchrony (SOA), though they are used in slightly different contexts."
   ]
  },
  {
   "cell_type": "code",
   "execution_count": null,
   "metadata": {},
   "outputs": [],
   "source": [
    "# Select the fourth phrase\n",
    "phrase = syllables[syllables.phrase == 4]\n",
    "\n",
    "# Make a 'Sequence' out of the phrase's syllable durations\n",
    "sequence = thebeat.Sequence(iois=phrase.syllable_duration)\n",
    "\n",
    "# Plot!\n",
    "sequence.plot_sequence(title='\"In announcing the award...\"', x_axis_label='Time [ms]', dpi=300, figsize=(8, 2))"
   ]
  },
  {
   "cell_type": "markdown",
   "metadata": {},
   "source": [
    "The plotted lines here indicate the syllable onsets, and the distance between the lines indicate the IOIs."
   ]
  },
  {
   "cell_type": "markdown",
   "metadata": {},
   "source": [
    "### Distributional properties\n",
    "\n",
    "We can easily extract some distributional properties from the data. We will use Pandas' `describe()` method to do so. This will give us the mean, standard deviation, etc."
   ]
  },
  {
   "cell_type": "code",
   "execution_count": null,
   "metadata": {},
   "outputs": [],
   "source": [
    "syllables.syllable_duration.describe()"
   ]
  },
  {
   "cell_type": "markdown",
   "metadata": {},
   "source": [
    "So, the average syllable duration us ~166 milliseconds, with a standard deviation of ~90 milliseconds.\n",
    "\n",
    "---\n"
   ]
  },
  {
   "cell_type": "markdown",
   "metadata": {},
   "source": [
    "Are the syllable durations normally distributed? \n",
    "\n",
    "For a single ``Sequence`` object, we can calculate Kolmogorov-Smirnov *D* using *thebeat* as follows:"
   ]
  },
  {
   "cell_type": "code",
   "execution_count": null,
   "metadata": {},
   "outputs": [],
   "source": [
    "D_statistic, p_value = thebeat.stats.ks_test(sequence, reference_distribution='normal')\n",
    "print(f\"Kolmogorov-Smirnov D statistic: {D_statistic}\")\n",
    "print(f\"p-value: {p_value}\")\n"
   ]
  },
  {
   "cell_type": "markdown",
   "metadata": {},
   "source": [
    "**Question:** What does the *p*-value tell us? And the *D* statistic?"
   ]
  },
  {
   "cell_type": "markdown",
   "metadata": {},
   "source": [
    "### Calculating the nPVI"
   ]
  },
  {
   "cell_type": "markdown",
   "metadata": {},
   "source": [
    "In the code block below, for the same syllable sequence, calculate the normalized Pairwise Variability Index (nPVI) that was mentioned in the presentation. \n",
    "\n",
    "_Hint_: The code to be used can be found in the [documentation of _thebeat_](https://thebeat.readthedocs.io/en/stable/index.html). Use\n",
    "the function's full name (as in the example for the KS-test above)."
   ]
  },
  {
   "cell_type": "code",
   "execution_count": null,
   "metadata": {},
   "outputs": [],
   "source": [
    "# Finish this code:\n",
    "npvi =\n",
    "\n",
    "# Print the result\n",
    "print(npvi)"
   ]
  },
  {
   "cell_type": "markdown",
   "metadata": {},
   "source": [
    "**Question:** What does this value say about the rhythm class of English? (mentioned in the presentation)"
   ]
  },
  {
   "cell_type": "markdown",
   "metadata": {},
   "source": [
    "<div class=\"alert alert-block alert-success\">\n",
    "<b>Hint:</b> Use <code>thebeat.stats.get_npvi()</code> to calculate the nPVI. The function takes as input the <code>sequence</code> variable we created above.\n",
    "</div>"
   ]
  },
  {
   "cell_type": "markdown",
   "metadata": {},
   "source": [
    "## Exercise 2: Creating and characterizing a musical rhythm <a name=\"Exercise2\"></a>"
   ]
  },
  {
   "cell_type": "markdown",
   "metadata": {},
   "source": [
    "Moving away from speech, let us now see how we can create a rhythm using *thebeat*, plot it, and visualize some of its properties.\n",
    "\n",
    "Again, we first import the necessary packages. For this exercise, we only need *thebeat*:"
   ]
  },
  {
   "cell_type": "code",
   "execution_count": null,
   "metadata": {},
   "outputs": [],
   "source": [
    "import thebeat"
   ]
  },
  {
   "cell_type": "markdown",
   "metadata": {},
   "source": [
    "We create a new ``Rhythm`` object and plot it in musical notation. We will enter the notes as fractions. The value we supply to ``beat_ms`` indicates the value of a quarternote (if the time signature is e.g. 4/4)."
   ]
  },
  {
   "cell_type": "code",
   "execution_count": null,
   "metadata": {},
   "outputs": [],
   "source": [
    "rhythm = thebeat.music.Rhythm.from_fractions([1/8, 1/4, 3/8, 1/4, 1/4, 3/8, 1/4, 1/8], time_signature=(4, 4), beat_ms=250)\n",
    "rhythm.plot_rhythm()"
   ]
  },
  {
   "cell_type": "markdown",
   "metadata": {},
   "source": [
    "### Make a phase space plot\n",
    "\n",
    "Phase space plots give an intuitive understanding of the rhythmic structure of a sequence. We can plot one easily using *thebeat* with the ``thebeat.visualization.phase_space_plot()`` function. Before we can do this however, we have to convert the ``Rhythm`` object to a ``Sequence`` object.\n",
    "\n",
    "Finish the code below to make a phase space plot:"
   ]
  },
  {
   "cell_type": "code",
   "execution_count": null,
   "metadata": {},
   "outputs": [],
   "source": [
    "# Convert Rhythm to Sequence\n",
    "rhythm_sequence = rhythm.to_sequence()\n",
    "\n",
    "# Make phase space plot, enter your code below:\n"
   ]
  },
  {
   "cell_type": "markdown",
   "metadata": {},
   "source": [
    "<div class=\"alert alert-block alert-success\">\n",
    "<b>Hint:</b> <code>thebeat.visualization.phase_space_plot</code> requires a sequence as input.\n",
    "</div>"
   ]
  },
  {
   "cell_type": "markdown",
   "metadata": {},
   "source": [
    "**Question:** What does the phase space plot reveal about the rhythm?\n",
    "\n",
    "---\n"
   ]
  },
  {
   "cell_type": "markdown",
   "metadata": {},
   "source": [
    "Another visualization technique is a so-called recurrence plot. What do you think the following recurrence plot reveals? The *x* and *y* axes denote the indices of the sound onsets. The colors indicate the distance between two IOIs."
   ]
  },
  {
   "cell_type": "code",
   "execution_count": null,
   "metadata": {},
   "outputs": [],
   "source": [
    "seq = thebeat.Sequence.generate_isochronous(10, 500)\n",
    "seq.change_tempo_linearly(0.5)\n",
    "thebeat.visualization.recurrence_plot(seq, colorbar=True)"
   ]
  },
  {
   "cell_type": "markdown",
   "metadata": {},
   "source": [
    "## Exercise 3: Sperm whale clicks <a name=\"Exercise3\"></a>\n",
    "\n",
    "Now, let's look at some bioacoustics. We will use an abridged version of the dataset from [Hersh, Gero, Rendell, & Whitehead (2021)](https://doi.org/10.1111/2041-210X.13644).\n",
    "\n",
    "As a bit of background, sperm whales produce so-called 'clicks' for echolocation and communication. These clicks are very loud, and can be heard over large distances (hundreds/thousands of miles). They are also very short, with durations of only a few milliseconds. Sperm whales live in 'clans' with specific dialects that are characterized by differences in click patterns.\n",
    "\n",
    "One string of clicks we call a 'coda'.\n",
    "\n",
    "For this exercise, we will use *thebeat*, *pandas*, and *matplotlib* (a package for plotting)."
   ]
  },
  {
   "cell_type": "code",
   "execution_count": null,
   "metadata": {},
   "outputs": [],
   "source": [
    "import thebeat\n",
    "import pandas as pd\n",
    "import matplotlib.pyplot as plt"
   ]
  },
  {
   "cell_type": "markdown",
   "metadata": {},
   "source": [
    "**Load the data and save it in a variable called `clicks`. Use the `read_csv()` function from Pandas again, and then visualize the first 5 rows using the `head()` method. The dataset's file location is `data/whales.csv`.**"
   ]
  },
  {
   "cell_type": "code",
   "execution_count": null,
   "metadata": {},
   "outputs": [],
   "source": [
    "# Load the data\n",
    "clicks =\n",
    "\n",
    "# Show first 5 rows\n"
   ]
  },
  {
   "cell_type": "markdown",
   "metadata": {},
   "source": [
    "We will now make a 'list' of *thebeat* ``Sequence`` objects for each of the codas (i.e. a sperm whale click sequence). Below is a quick way of doing that:"
   ]
  },
  {
   "cell_type": "code",
   "execution_count": null,
   "metadata": {},
   "outputs": [],
   "source": [
    "# Make empty list\n",
    "sequences = []\n",
    "\n",
    "# Loop over each coda, make a thebeat.Sequence, and add it to the list\n",
    "for codanum, coda_dataframe in clicks.groupby(\"codanum\"):\n",
    "    sequence = thebeat.Sequence(iois=coda_dataframe.ioi, name=codanum)\n",
    "    sequences.append(sequence)"
   ]
  },
  {
   "cell_type": "markdown",
   "metadata": {},
   "source": [
    "Once we have that, we can quickly visualize these codas using *thebeat*'s ``plot_multiple_sequences`` function:"
   ]
  },
  {
   "cell_type": "code",
   "execution_count": null,
   "metadata": {},
   "outputs": [],
   "source": [
    "thebeat.visualization.plot_multiple_sequences(sequences, dpi=300)"
   ]
  },
  {
   "cell_type": "markdown",
   "metadata": {},
   "source": [
    "*Note that the x axis is now in seconds (different from in the previous exercises)*\n",
    "\n",
    "**Question:** Can you see any differences between the codas?\n",
    "\n",
    "---\n"
   ]
  },
  {
   "cell_type": "markdown",
   "metadata": {},
   "source": [
    "If we want to take a look at the distribution of the inter-click intervals, we can use Pandas' ``plot`` function. Let's also see what the median inter-click interval is:"
   ]
  },
  {
   "cell_type": "code",
   "execution_count": null,
   "metadata": {},
   "outputs": [],
   "source": [
    "clicks.ioi.plot(kind='hist', bins=50)\n",
    "print(f\"Median inter-click interval: {clicks.ioi.median()} s\")"
   ]
  },
  {
   "cell_type": "markdown",
   "metadata": {},
   "source": [
    "To discover patterns, let's plot recurrence plots for the first twelve codas. The code below is maybe a little confusing, but it basically plots the recurrence plots for the first twelve codas in a 3x4 grid."
   ]
  },
  {
   "cell_type": "code",
   "execution_count": null,
   "metadata": {},
   "outputs": [],
   "source": [
    "# Select first twelve codas\n",
    "sample = sequences[:12]\n",
    "\n",
    "# Make a grid\n",
    "fig, axs = plt.subplots(3, 4, tight_layout=True, figsize=(8, 6))\n",
    "\n",
    "# Loop over each sequence and plot it\n",
    "for sequence, ax in zip(sample, axs.flatten()):\n",
    "    thebeat.visualization.recurrence_plot(sequence, ax=ax)"
   ]
  },
  {
   "cell_type": "markdown",
   "metadata": {},
   "source": [
    "**Question:** Which codas are similar and may have been produced by members of the same clan?"
   ]
  },
  {
   "cell_type": "markdown",
   "metadata": {},
   "source": [
    "## Bonus: Play around with bat data <a name=\"PlayAround\"></a>\n",
    "\n",
    "There is one additional dataset in the `data` folder, called `bats.csv`. This is a dataset from [Burchardt & Knörnschild (2020)](https://doi.org/10.1371/journal.pcbi.1007755) of bat vocalizations (species *Carollia perspicillata*). You can load it in the same way as the other datasets, and play around with it. You can for instance try to plot the distribution of the IOIs, make recurrence plots, etc.\n",
    "\n",
    "If you want to learn about other functions that are included in *thebeat*, take a look at the [package documentation](https://thebeat.readthedocs.io/en/latest/), for instance under `Examples`."
   ]
  },
  {
   "cell_type": "code",
   "execution_count": null,
   "metadata": {},
   "outputs": [],
   "source": [
    "# Play around with data and code!"
   ]
  }
 ],
 "metadata": {
  "kernelspec": {
   "display_name": "venv",
   "language": "python",
   "name": "python3"
  },
  "language_info": {
   "codemirror_mode": {
    "name": "ipython",
    "version": 3
   },
   "file_extension": ".py",
   "mimetype": "text/x-python",
   "name": "python",
   "nbconvert_exporter": "python",
   "pygments_lexer": "ipython3",
   "version": "3.9.6"
  },
  "widgets": {
   "application/vnd.jupyter.widget-state+json": {
    "state": {},
    "version_major": 2,
    "version_minor": 0
   }
  }
 },
 "nbformat": 4,
 "nbformat_minor": 4
}
