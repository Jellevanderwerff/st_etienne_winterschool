{
 "cells": [
  {
   "cell_type": "markdown",
   "metadata": {},
   "source": [
    "<img src=../materials/banner.png width=\"70%\">"
   ]
  },
  {
   "cell_type": "markdown",
   "metadata": {},
   "source": [
    "# Exercises for experienced programmers\n",
    "1. [Introduction](#Introduction)\n",
    "1. [Exercise 1: Characterizing human speech](#Exercise1)\n",
    "1. [Exercise 2: Creating and characterizing a musical rhythm](#Exercise2)\n",
    "1. [Exercise 3: Sperm whale clicks](#Exercise3)\n",
    "1. [Bonus: Play around with bat data](#PlayAround)"
   ]
  },
  {
   "cell_type": "markdown",
   "metadata": {},
   "source": [
    "In this notebook we'll use the following Python packages to explore some human, sperm whale, and bat vocalizations, and do some rhythmic analyses:\n",
    "\n",
    "* [thebeat](https://thebeat.readthedocs.io/en/latest/): A package for working with temporal sequences and rhythms. It allows you to analyze and visualize rhythms an other temporal data.\n",
    "* [matplotlib](https://matplotlib.org/): A package for plotting and visualizing data, based on Matlab's plotting functions.\n",
    "* [pandas](https://pandas.pydata.org/): A package for working with dataframes, which are like tables in R or Matlab.\n",
    "\n",
    "Optionally, you can use [seaborn](https://seaborn.pydata.org/) for plotting as well; it's been installed on this server, and for doing calculations you can also use [numpy](https://numpy.org/), which is also installed."
   ]
  },
  {
   "cell_type": "markdown",
   "metadata": {},
   "source": [
    "***Take a quick look at the documentation of the packages that you're not yet familiar with.***\n",
    "\n",
    "---\n",
    "\n",
    "In this notebook for more experienced programmers, we'll try to give you a bit more freedom to explore and play around with the data. We'll give you some hints and suggestions, but you can also try to come up with your own ideas. If you get stuck, you can always ask for help!"
   ]
  },
  {
   "cell_type": "markdown",
   "metadata": {},
   "source": [
    "## Exercise 1: Characterizing human speech rhythm <a name=\"Exercise1\"></a>\n",
    "\n",
    "### Background <a name=\"Exercise1-background\"></a>\n",
    "\n",
    "Let us start with the most crazy animal of all: the human. We will use a dataset of human speech, and extract some rhythmic measures from it. The dataset is an abridged version of [this speech corpus](https://www.ortolang.fr/market/corpora/sldr000033?lang=en). It contains a number of phrases, their syllables, and the durations of the syllables.\n",
    "\n",
    "![human speech rhythm](https://www.cell.com/cms/attachment/2c7a6e28-551a-40dd-a229-5ab061539285/gr1b2_lrg.jpg)\n",
    "*From [Kotz, Ravignani, & Fitch, 2018](https://doi.org/10.1016/j.tics.2018.08.002)*\n",
    "\n",
    "Speech consists of rhythms at different timescales. In English, for instance, there is an underlying rhythm indicating stressed words, but also one that indicates stressed syllables."
   ]
  },
  {
   "cell_type": "markdown",
   "metadata": {},
   "source": [
    "### Importing packages and loading the data <a name=\"Exercise1-dataloading\"></a>"
   ]
  },
  {
   "cell_type": "markdown",
   "metadata": {},
   "source": [
    "***Use the code block below to import `thebeat` and `pandas`, and load the speech data, which is stored in `data/syllables.csv`:***"
   ]
  },
  {
   "cell_type": "code",
   "execution_count": null,
   "metadata": {},
   "outputs": [],
   "source": [
    "# import thebeat and pandas\n",
    "\n",
    "# read in the 'syllables.csv' dataframe\n"
   ]
  },
  {
   "cell_type": "markdown",
   "metadata": {},
   "source": [
    "***Display the data quickly (e.g. using [this](https://pandas.pydata.org/docs/reference/api/pandas.DataFrame.head.html) function), check out the column names, and calculate some general descriptive statistics for the duration of the syllables (e.g. using [this](https://pandas.pydata.org/docs/reference/api/pandas.DataFrame.describe.html) function). In addition, extract the median syllable duration.***"
   ]
  },
  {
   "cell_type": "code",
   "execution_count": null,
   "metadata": {},
   "outputs": [],
   "source": [
    "# Display data quickly\n",
    "\n",
    "# Calculate some general descriptive statistics\n",
    "\n",
    "# Calculate and print the median syllable duration\n"
   ]
  },
  {
   "cell_type": "markdown",
   "metadata": {},
   "source": [
    "**Question:** More often than not, we use the median duration rather than the mean duration. Why would that be?"
   ]
  },
  {
   "cell_type": "markdown",
   "metadata": {},
   "source": [
    "### First look at one phrase of English"
   ]
  },
  {
   "cell_type": "markdown",
   "metadata": {},
   "source": [
    "We will use the syllables' durations as so-called 'inter-onset intervals' (IOIs). These are widely used in timing research, and in this case represent the time difference between the onset of one syllable, and the onset of the next syllable. Similar terms are 'inter-stimulus interval' (ISI) and stimulus-onset asynchrony (SOA), though they are used in slightly different contexts.\n",
    "\n",
    "***Select one of the phrases using Pandas, and plot the phrase using [thebeat](https://thebeat.readthedocs.io). To do so, first make the phrase into a ``thebeat.Sequence`` object using the syllable durations as the IOIs (instructions are [here](https://thebeat.readthedocs.io/en/stable/api_reference/core/Sequence.html#thebeat.core.Sequence.__init__)). Then, use one of the ``Sequence``'s [plotting methods](https://thebeat.readthedocs.io/en/stable/api_reference/core/Sequence.html#thebeat.core.Sequence.plot_sequence) to plot an 'event plot'.***\n",
    "\n",
    "<div class=>"
   ]
  },
  {
   "cell_type": "code",
   "execution_count": null,
   "metadata": {},
   "outputs": [],
   "source": [
    "# Select the fourth phrase using Pandas slicing (use df[df.phrase == 4] syntax)\n",
    "phrase =\n",
    "\n",
    "# Make a 'Sequence' object, using the syllable durations as inter-onset intervals\n",
    "sequence =\n",
    "\n",
    "# Plot en event plot\n"
   ]
  },
  {
   "cell_type": "markdown",
   "metadata": {},
   "source": [
    "The plotted lines here indicate the syllable onsets, and the distance between the lines indicate the IOIs."
   ]
  },
  {
   "cell_type": "markdown",
   "metadata": {},
   "source": [
    "### Plotting distribution of IOIs (syllable durations)\n",
    "\n",
    "***Use e.g. the Pandas' .plot() method on the syllable durations to plot a histogram of all the syllable durations in the dataset:***"
   ]
  },
  {
   "cell_type": "code",
   "execution_count": null,
   "metadata": {},
   "outputs": [],
   "source": [
    "# Plot a histogram of all the syllable durations in the dataframe\n"
   ]
  },
  {
   "cell_type": "markdown",
   "metadata": {},
   "source": [
    "**Question:** Are there any conclusions we can draw based on the histogram? How are they distributed?\n",
    "\n",
    "---\n"
   ]
  },
  {
   "cell_type": "markdown",
   "metadata": {},
   "source": [
    "*thebeat* contains a function in the stats module ([thebeat.stats](https://thebeat.readthedocs.io/en/stable/api_reference/stats.html)) to quickly check whether the IOIs in a ``Sequence`` follow a certain distribution. \n",
    "\n",
    "***Check whether the IOIs in the ``Sequence`` object created above follow a normal distribution.***"
   ]
  },
  {
   "cell_type": "code",
   "execution_count": null,
   "metadata": {},
   "outputs": [],
   "source": [
    "# Check whether the syllable durations in the fourth phrase are normally distributed\n",
    "\n"
   ]
  },
  {
   "cell_type": "markdown",
   "metadata": {},
   "source": [
    "**Question:** What does the *p*-value tell us?"
   ]
  },
  {
   "cell_type": "markdown",
   "metadata": {},
   "source": [
    "### Calculating the nPVI"
   ]
  },
  {
   "cell_type": "markdown",
   "metadata": {},
   "source": [
    "In the code block below, calculate the normalized Pairwise Variability Index (nPVI) for the phrase selected above. The nPVI was mentioned in the presentation. The function to calculate it is also included in the *thebeat.stats* module ([thebeat.stats](https://thebeat.readthedocs.io/en/stable/api_reference/stats.html))."
   ]
  },
  {
   "cell_type": "code",
   "execution_count": null,
   "metadata": {},
   "outputs": [],
   "source": [
    "# Finish this code:\n",
    "npvi =\n",
    "\n",
    "# Print the result\n",
    "print(npvi)"
   ]
  },
  {
   "cell_type": "markdown",
   "metadata": {},
   "source": [
    "**Question:** What does this value say about the rhythm class of English?"
   ]
  },
  {
   "cell_type": "markdown",
   "metadata": {},
   "source": [
    "## Exercise 2: Creating and characterizing a musical rhythm <a name=\"Exercise2\"></a>"
   ]
  },
  {
   "cell_type": "markdown",
   "metadata": {},
   "source": [
    "Moving away from speech, let us now see how we can create a rhythm using *thebeat*, plot it, and visualize some of its properties.\n",
    "\n",
    "***Start by importing *thebeat*:***"
   ]
  },
  {
   "cell_type": "code",
   "execution_count": null,
   "metadata": {},
   "outputs": [],
   "source": [
    "# Import thebeat\n",
    "\n"
   ]
  },
  {
   "cell_type": "markdown",
   "metadata": {},
   "source": [
    "We create a new ``Rhythm`` object and plot it in musical notation. We will enter the notes as fractions. The value we supply to ``beat_ms`` indicates the duration of a quarternote in milliseconds (if the time signature is e.g. 4/4)."
   ]
  },
  {
   "cell_type": "code",
   "execution_count": null,
   "metadata": {},
   "outputs": [],
   "source": [
    "# Create a rhythm object from a list of fractions\n",
    "rhythm = thebeat.music.Rhythm.from_fractions([1/8, 1/4, 3/8, 1/4, 1/4, 3/8, 1/4, 1/8], time_signature=(4, 4), beat_ms=250)\n",
    "# Plot it in musical notation\n",
    "rhythm.plot_rhythm()"
   ]
  },
  {
   "cell_type": "markdown",
   "metadata": {},
   "source": [
    "### Make a phase space plot\n",
    "\n",
    "Phase space plots give an intuitive understanding of the rhythmic structure of a sequence. Check out the documentation to *thebeat*'s visualization module ([thebeat.visualization](https://thebeat.readthedocs.io/en/stable/api_reference/visualization.html)) to find the function for making one. Note that before we can make the phase space plot we have to convert to ``Rhythm`` object to a ``Sequence`` object. \n",
    "\n",
    "***Finish the code below to make a phase space plot:***"
   ]
  },
  {
   "cell_type": "code",
   "execution_count": null,
   "metadata": {},
   "outputs": [],
   "source": [
    "# Convert Rhythm to Sequence\n",
    "rhythm_sequence = rhythm.to_sequence()\n",
    "\n",
    "# Make phase space plot, enter your code below:\n"
   ]
  },
  {
   "cell_type": "markdown",
   "metadata": {},
   "source": [
    "**Question:** What does the phase space plot reveal about the rhythm?\n",
    "\n",
    "---\n"
   ]
  },
  {
   "cell_type": "markdown",
   "metadata": {},
   "source": [
    "Another visualization technique is a so-called recurrence plot. What do you think the following recurrence plot reveals? The *x* and *y* axes denote the indices of the sound onsets. The colors indicate the distance between two IOIs."
   ]
  },
  {
   "cell_type": "code",
   "execution_count": null,
   "metadata": {},
   "outputs": [],
   "source": [
    "seq = thebeat.Sequence.generate_isochronous(10, 500)\n",
    "seq.change_tempo_linearly(0.5)\n",
    "thebeat.visualization.recurrence_plot(seq, colorbar=True)"
   ]
  },
  {
   "cell_type": "markdown",
   "metadata": {},
   "source": [
    "## Exercise 3: Sperm whale clicks <a name=\"Exercise3\"></a>\n",
    "\n",
    "Now, let's look at some bioacoustics. We will use an abridged version of the dataset from [Hersh, Gero, Rendell, & Whitehead (2021)](https://doi.org/10.1111/2041-210X.13644).\n",
    "\n",
    "As a bit of background, sperm whales produce so-called 'clicks' for echolocation and communication. These clicks are very loud, and can be heard over large distances (hundreds/thousands of miles). They are also very short, with durations of only a few milliseconds. Sperm whales live in 'clans' with specific dialects that are characterized by differences in click patterns.\n",
    "\n",
    "One string of clicks we call a 'coda'.\n",
    "\n",
    "For this exercise, we will use *thebeat*, *pandas*, and *matplotlib*."
   ]
  },
  {
   "cell_type": "code",
   "execution_count": null,
   "metadata": {},
   "outputs": [],
   "source": [
    "import thebeat\n",
    "import pandas as pd\n",
    "import matplotlib.pyplot as plt"
   ]
  },
  {
   "cell_type": "markdown",
   "metadata": {},
   "source": [
    "***Load the data using Pandas and save it in a variable called `clicks`. The dataset's file location is `data/whales.csv`.***"
   ]
  },
  {
   "cell_type": "code",
   "execution_count": null,
   "metadata": {},
   "outputs": [],
   "source": [
    "# Load the data\n",
    "clicks =\n",
    "\n",
    "# Show first 5 rows\n"
   ]
  },
  {
   "cell_type": "markdown",
   "metadata": {},
   "source": [
    "***Now, make a list of *thebeat* ``Sequence`` objects for each of the codas (i.e. a sperm whale click sequence).***\n",
    "\n",
    "***Hint: One way to do this is to loop over a grouped version of the DataFrame (grouped by column 'codanum')***"
   ]
  },
  {
   "cell_type": "code",
   "execution_count": null,
   "metadata": {},
   "outputs": [],
   "source": [
    "# Make empty list\n",
    "sequences = []\n",
    "\n",
    "# Loop over each coda, make a thebeat.Sequence, and add it to the list\n"
   ]
  },
  {
   "cell_type": "markdown",
   "metadata": {},
   "source": [
    "Once we have that, we can quickly visualize these codas using *thebeat*'s ``plot_multiple_sequences`` function from the visualization module:"
   ]
  },
  {
   "cell_type": "code",
   "execution_count": null,
   "metadata": {},
   "outputs": [],
   "source": [
    "# Plot multiple sequences. It might be smart to adjust the dpi parameter in the plotting function:\n"
   ]
  },
  {
   "cell_type": "markdown",
   "metadata": {},
   "source": [
    "*Note that the x axis is now in seconds (different from in the previous exercises)*\n",
    "\n",
    "**Question:** Can you see any differences between the codas?\n",
    "\n",
    "---\n"
   ]
  },
  {
   "cell_type": "markdown",
   "metadata": {},
   "source": [
    "Again, plot the distribution of the inter-click intervals (i.e. the IOIs):"
   ]
  },
  {
   "cell_type": "code",
   "execution_count": null,
   "metadata": {},
   "outputs": [],
   "source": [
    "# Plot the distribution of the inter-click intervals:\n"
   ]
  },
  {
   "cell_type": "markdown",
   "metadata": {},
   "source": [
    "***To discover patterns, let's plot recurrence plots for the first twelve codas:***"
   ]
  },
  {
   "cell_type": "code",
   "execution_count": null,
   "metadata": {},
   "outputs": [],
   "source": [
    "# Select first twelve codas\n",
    "sample = sequences[:12]\n",
    "\n",
    "# Make a grid\n",
    "fig, axs = plt.subplots(3, 4, tight_layout=True, figsize=(8, 6))\n",
    "\n",
    "# Loop over each sequence and plot it\n",
    "for sequence, ax in zip(sample, axs.flatten()):\n",
    "    thebeat.visualization.recurrence_plot(sequence, ax=ax)"
   ]
  },
  {
   "cell_type": "markdown",
   "metadata": {},
   "source": [
    "**Question:** Which codas are similar and may have been produced by members of the same clan?"
   ]
  },
  {
   "cell_type": "markdown",
   "metadata": {},
   "source": [
    "## Bonus: Play around with bat data <a name=\"PlayAround\"></a>\n",
    "\n",
    "There is one additional dataset in the `data` folder, called `bats.csv`. This is a dataset from [Burchardt & Knörnschild (2020)](https://doi.org/10.1371/journal.pcbi.1007755) of bat vocalizations (species *Carollia perspicillata*). You can load it in the same way as the other datasets, and play around with it. You can for instance try to plot the distribution of the IOIs, make recurrence plots, etc.\n",
    "\n",
    "If you want to learn about other functions that are included in *thebeat*, take a look at the [package documentation](https://thebeat.readthedocs.io/en/latest/), for instance under `Examples`. Another thing that might be cool is to plot the distributions of so-called 'interval ratios'. You can find functions (and explanations of what it is) in the documentation to the ``thebeat.stats`` module."
   ]
  },
  {
   "cell_type": "code",
   "execution_count": null,
   "metadata": {},
   "outputs": [],
   "source": [
    "# Play around with data and code!"
   ]
  }
 ],
 "metadata": {
  "kernelspec": {
   "display_name": "Python 3 (ipykernel)",
   "language": "python",
   "name": "python3"
  },
  "language_info": {
   "codemirror_mode": {
    "name": "ipython",
    "version": 3
   },
   "file_extension": ".py",
   "mimetype": "text/x-python",
   "name": "python",
   "nbconvert_exporter": "python",
   "pygments_lexer": "ipython3",
   "version": "3.9.6"
  },
  "widgets": {
   "application/vnd.jupyter.widget-state+json": {
    "state": {},
    "version_major": 2,
    "version_minor": 0
   }
  }
 },
 "nbformat": 4,
 "nbformat_minor": 4
}
