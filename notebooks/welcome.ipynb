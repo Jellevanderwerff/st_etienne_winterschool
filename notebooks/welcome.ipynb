{
 "cells": [
  {
   "cell_type": "markdown",
   "metadata": {},
   "source": [
    "# Rhythmic patterns in animal acoustic communication\n",
    "*Prof. Andrea Ravignani & Jelle van der Werff*\n",
    "\n",
    "*Sapienza University of Rome*"
   ]
  },
  {
   "cell_type": "markdown",
   "metadata": {},
   "source": [
    "## Welcome\n",
    "During this workshop, we will explore some rhythmic patterns in animal acoustic communication. We will use the programming language Python, combined with the package `thebeat` to analyze and visualize vocalizations from X different species. \n",
    "\n",
    "We have set up a so-called Jupyter Notebook for you, which is a document that contains both text and code that you can run. You can also enter or edit the code that's in the dedicated boxes. You can run the code by clicking the little play buttons.\n",
    "\n",
    "Th environment where you are now is completely free to use for you, so do not be afraid to create new files, or change the code. If you want to save your notebook at the end of the workshop, you can download the notebook by clicking `File > Download as > Notebook (.ipynb)`.\n",
    "\n",
    "<div class=\"alert alert-block alert-info\">\n",
    "<b>You can always ask us questions if you get stuck. We are here to help you!</b>\n",
    "</div>"
   ]
  },
  {
   "cell_type": "markdown",
   "metadata": {},
   "source": [
    "## Two types of notebooks\n",
    "\n",
    "For this workshop, there are two notebooks: one for [beginners](./beginner.ipynb) and one for [advanced users](./advanced.ipynb). The beginner notebook contains more explanation and less code, while the advanced notebook contains less explanation and more code. If you are new to programming, we recommend you to start with the beginner notebook. If you have some experience with programming, you can start with the advanced notebook."
   ]
  },
  {
   "cell_type": "markdown",
   "metadata": {},
   "source": [
    "## Start!\n",
    "\n",
    "You can now start with the [beginner notebook](./beginner.ipynb) or the [advanced notebook](./advanced.ipynb). Good luck!"
   ]
  }
 ],
 "metadata": {
  "kernelspec": {
   "display_name": "Python 3 (ipykernel)",
   "language": "python",
   "name": "python3"
  },
  "language_info": {
   "codemirror_mode": {
    "name": "ipython",
    "version": 3
   },
   "file_extension": ".py",
   "mimetype": "text/x-python",
   "name": "python",
   "nbconvert_exporter": "python",
   "pygments_lexer": "ipython3",
   "version": "3.9.6"
  },
  "widgets": {
   "application/vnd.jupyter.widget-state+json": {
    "state": {},
    "version_major": 2,
    "version_minor": 0
   }
  }
 },
 "nbformat": 4,
 "nbformat_minor": 4
}
